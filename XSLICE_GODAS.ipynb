{
 "cells": [
  {
   "cell_type": "code",
   "execution_count": 1,
   "id": "ba7d7441",
   "metadata": {
    "ExecuteTime": {
     "end_time": "2023-04-01T10:12:24.372353Z",
     "start_time": "2023-04-01T10:12:16.616529Z"
    }
   },
   "outputs": [],
   "source": [
    "# IMPORTING PACKAGES\n",
    "from user_interface import ui\n",
    "from data_download import download_data\n",
    "from output import output\n",
    "import os\n",
    "import matplotlib\n",
    "import matplotlib.font_manager"
   ]
  },
  {
   "cell_type": "code",
   "execution_count": 2,
   "id": "1c283092",
   "metadata": {
    "ExecuteTime": {
     "end_time": "2023-04-01T10:12:24.389249Z",
     "start_time": "2023-04-01T10:12:24.382115Z"
    }
   },
   "outputs": [],
   "source": [
    "#download_data() Only run this line if data is not yet downloaded\n",
    "os.chdir(\"GODAS data\")"
   ]
  },
  {
   "cell_type": "code",
   "execution_count": 3,
   "id": "0db2b604-ea03-45bd-80b5-56def6c0984b",
   "metadata": {},
   "outputs": [
    {
     "data": {
      "application/vnd.jupyter.widget-view+json": {
       "model_id": "984992cd9a6f439a83c8bbff41dbc2c9",
       "version_major": 2,
       "version_minor": 0
      },
      "text/plain": [
       "Tab(children=(HBox(children=(Image(value=b'\\x89PNG\\r\\n\\x1a\\n\\x00\\x00\\x00\\rIHDR\\x00\\x00\\x01\\xb6\\x00\\x00\\x01\\x10…"
      ]
     },
     "metadata": {},
     "output_type": "display_data"
    },
    {
     "data": {
      "application/vnd.jupyter.widget-view+json": {
       "model_id": "b7cb4f3a9d854d0997ea00ceb6a7a81c",
       "version_major": 2,
       "version_minor": 0
      },
      "text/plain": [
       "Output()"
      ]
     },
     "metadata": {},
     "output_type": "display_data"
    }
   ],
   "source": [
    "display(ui(), output())"
   ]
  }
 ],
 "metadata": {
  "kernelspec": {
   "display_name": "Python 3 (ipykernel)",
   "language": "python",
   "name": "python3"
  },
  "language_info": {
   "codemirror_mode": {
    "name": "ipython",
    "version": 3
   },
   "file_extension": ".py",
   "mimetype": "text/x-python",
   "name": "python",
   "nbconvert_exporter": "python",
   "pygments_lexer": "ipython3",
   "version": "3.9.13"
  }
 },
 "nbformat": 4,
 "nbformat_minor": 5
}
